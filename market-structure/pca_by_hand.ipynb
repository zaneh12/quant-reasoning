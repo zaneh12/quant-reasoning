{
 "cells": [
  {
   "cell_type": "markdown",
   "id": "52033dbc",
   "metadata": {},
   "source": [
    "###  PCA Commentary on the Dataset\n",
    "\n",
    "Let  \n",
    "$$\n",
    "X = \\begin{bmatrix}\n",
    "2.5 & 2.4 \\\\\n",
    "0.5 & 0.7 \\\\\n",
    "2.2 & 2.9 \\\\\n",
    "1.9 & 2.2 \\\\\n",
    "3.1 & 3.0 \\\\\n",
    "2.3 & 2.7 \\\\\n",
    "2.0 & 1.6 \\\\\n",
    "1.0 & 1.1 \\\\\n",
    "1.5 & 1.6 \\\\\n",
    "1.1 & 0.9\n",
    "\\end{bmatrix}\n",
    "\\in \\mathbb{R}^{10 \\times 2}\n",
    "$$\n",
    "\n",
    "Each row is an observation, and each column is a feature (e.g., `height` and `weight`).\n",
    "\n",
    "---\n",
    "\n",
    "####  Step 1: Centering the Data\n",
    "\n",
    "We compute the column-wise mean:\n",
    "$$\n",
    "\\mu = \\frac{1}{10} \\sum_{i=1}^{10} X_i\n",
    "$$\n",
    "\n",
    "Then subtract it:\n",
    "$$\n",
    "X_{\\text{centered}} = X - \\mu\n",
    "$$\n",
    "\n",
    "---\n",
    "\n",
    "####  Step 2: Covariance Matrix\n",
    "\n",
    "We compute the empirical covariance matrix:\n",
    "$$\n",
    "\\Sigma = \\frac{1}{n - 1} X_{\\text{centered}}^\\top X_{\\text{centered}} \\in \\mathbb{R}^{2 \\times 2}\n",
    "$$\n",
    "\n",
    "This captures the variance and correlation between the two features.\n",
    "\n",
    "---\n",
    "\n",
    "####  Step 3: Eigen Decomposition\n",
    "\n",
    "We solve:\n",
    "$$\n",
    "\\Sigma v = \\lambda v\n",
    "$$\n",
    "\n",
    "to find eigenvalues $ \\lambda_1, \\lambda_2 $ and eigenvectors $ v_1, v_2 $, which define the **principal components**.\n",
    "\n",
    "In this dataset:\n",
    "\n",
    "- The **first principal component** explains the majority of the variance and lies along a direction combining both height and weight.\n",
    "- The **second component** is orthogonal to the first and explains the residual variance.\n",
    "\n",
    "Since the eigenvalues are highly unequal (e.g., $ \\lambda_1 \\gg \\lambda_2 $), **most of the structure in the data lies along a single direction**.\n",
    "\n",
    "---\n",
    "\n",
    "####  Step 4: Projection\n",
    "\n",
    "To reduce dimensionality:\n",
    "$$\n",
    "Z = X_{\\text{centered}} \\cdot V_k\n",
    "$$\n",
    "\n",
    "where $ V_k \\in \\mathbb{R}^{2 \\times k} $ contains the top $ k $ eigenvectors.\n",
    "\n",
    "For $ k = 1 $, the data is projected onto the line of maximum variance — a 1D summary of 2D data.\n",
    "\n",
    "---\n"
   ]
  },
  {
   "cell_type": "code",
   "execution_count": 36,
   "id": "4db366ba",
   "metadata": {},
   "outputs": [],
   "source": [
    "import numpy as np\n",
    "from scipy.linalg import eigh\n",
    "\n",
    "# Example data (rows = samples, columns = [height and weight])\n",
    "X = np.array([\n",
    "    [2.5, 2.4],\n",
    "    [0.5, 0.7],\n",
    "    [2.2, 2.9],\n",
    "    [1.9, 2.2],\n",
    "    [3.1, 3.0],\n",
    "    [2.3, 2.7],\n",
    "    [2.0, 1.6],\n",
    "    [1.0, 1.1],\n",
    "    [1.5, 1.6],\n",
    "    [1.1, 0.9]\n",
    "])\n",
    "\n",
    "# Step 1: Center the data \n",
    "X_mean = np.mean(X, axis=0)\n",
    "X_centered = X - X_mean\n",
    "# X_centered = X - μ, where μ = mean(X, axis=0)"
   ]
  },
  {
   "cell_type": "code",
   "execution_count": 37,
   "id": "9412cee6",
   "metadata": {},
   "outputs": [
    {
     "data": {
      "text/plain": [
       "array([[0.61655556, 0.61544444],\n",
       "       [0.61544444, 0.71655556]])"
      ]
     },
     "execution_count": 37,
     "metadata": {},
     "output_type": "execute_result"
    }
   ],
   "source": [
    "\n",
    "# Step 2: Compute the covariance matrix\n",
    "cov_matrix = np.cov(X_centered, rowvar=False)\n",
    "# Σ = (1 / (n - 1)) * X_centeredᵀ @ X_centered\n",
    "cov_matrix\n"
   ]
  },
  {
   "cell_type": "code",
   "execution_count": 38,
   "id": "974e1e20",
   "metadata": {},
   "outputs": [
    {
     "name": "stdout",
     "output_type": "stream",
     "text": [
      "[1.28402771 0.0490834 ]\n",
      "[[ 0.6778734  -0.73517866]\n",
      " [ 0.73517866  0.6778734 ]]\n"
     ]
    }
   ],
   "source": [
    "\n",
    "# Step 3: Compute eigenvalues and eigenvectors (sorted descending)\n",
    "eigvals, eigvecs = eigh(cov_matrix)  # eigh because covariance matrix is symmetric\n",
    "# Solve: Σv = λv → find eigenvalues λ and eigenvectors v\n",
    "sorted_idx = np.argsort(eigvals)[::-1]\n",
    "eigvals = eigvals[sorted_idx]\n",
    "eigvecs = eigvecs[:, sorted_idx]\n",
    "print(eigvals)\n",
    "print(eigvecs)\n"
   ]
  },
  {
   "cell_type": "code",
   "execution_count": 39,
   "id": "2dd329ca",
   "metadata": {},
   "outputs": [
    {
     "name": "stdout",
     "output_type": "stream",
     "text": [
      "Eigenvalues:\n",
      " [1.28402771 0.0490834 ]\n",
      "Eigenvectors (columns = PCs):\n",
      " [[ 0.6778734  -0.73517866]\n",
      " [ 0.73517866  0.6778734 ]]\n",
      "Projected Data:\n",
      " [[ 0.82797019 -0.17511531]\n",
      " [-1.77758033  0.14285723]\n",
      " [ 0.99219749  0.38437499]\n",
      " [ 0.27421042  0.13041721]\n",
      " [ 1.67580142 -0.20949846]\n",
      " [ 0.9129491   0.17528244]\n",
      " [-0.09910944 -0.3498247 ]\n",
      " [-1.14457216  0.04641726]\n",
      " [-0.43804614  0.01776463]\n",
      " [-1.22382056 -0.16267529]]\n"
     ]
    }
   ],
   "source": [
    "\n",
    "# Step 4: Project data onto the principal components\n",
    "X_pca = X_centered @ eigvecs  # you can also slice eigvecs[:, :k] to reduce dimensions\n",
    "# Z = X_centered @ V, where V is the matrix of eigenvectors (principal axes)\n",
    "# Output\n",
    "print(\"Eigenvalues:\\n\", eigvals)\n",
    "print(\"Eigenvectors (columns = PCs):\\n\", eigvecs)\n",
    "print(\"Projected Data:\\n\", X_pca)\n"
   ]
  },
  {
   "cell_type": "code",
   "execution_count": 40,
   "id": "90af83be",
   "metadata": {},
   "outputs": [
    {
     "data": {
      "image/png": "[encoded data removed]",
      "text/plain": [
       "<Figure size 576x576 with 1 Axes>"
      ]
     },
     "metadata": {
      "needs_background": "light"
     },
     "output_type": "display_data"
    }
   ],
   "source": [
    "import matplotlib.pyplot as plt\n",
    "\n",
    "# Plot original data\n",
    "plt.figure(figsize=(8, 8))\n",
    "plt.scatter(X_centered[:, 0], X_centered[:, 1], alpha=0.6, label='Centered Data')\n",
    "\n",
    "# Plot principal axes\n",
    "origin = np.zeros(2)\n",
    "scale = 1  # just for visual clarity\n",
    "\n",
    "for i in range(2):\n",
    "    vec = eigvecs[:, i] * np.sqrt(eigvals[i]) * scale\n",
    "    plt.quiver(*origin, *vec, angles='xy', scale_units='xy', scale=1, color='r', alpha=0.8, label=f'PC{i+1}' if i == 0 else None)\n",
    "\n",
    "# Add labels and formatting\n",
    "plt.axhline(0, color='grey', linestyle='--', linewidth=1)\n",
    "plt.axvline(0, color='grey', linestyle='--', linewidth=1)\n",
    "plt.xlabel('x₁ (centered)')\n",
    "plt.ylabel('x₂ (centered)')\n",
    "plt.title('PCA on 2D Data with Principal Components')\n",
    "plt.grid(True)\n",
    "plt.axis('equal')\n",
    "# plt.ylim(-2,4)\n",
    "plt.legend()\n",
    "plt.show()\n"
   ]
  }
 ],
 "metadata": {
  "kernelspec": {
   "display_name": "Python 3",
   "language": "python",
   "name": "python3"
  },
  "language_info": {
   "codemirror_mode": {
    "name": "ipython",
    "version": 3
   },
   "file_extension": ".py",
   "mimetype": "text/x-python",
   "name": "python",
   "nbconvert_exporter": "python",
   "pygments_lexer": "ipython3",
   "version": "3.10.5"
  }
 },
 "nbformat": 4,
 "nbformat_minor": 5
}
